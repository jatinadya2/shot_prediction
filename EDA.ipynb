{
 "cells": [
  {
   "cell_type": "code",
   "execution_count": 1,
   "metadata": {},
   "outputs": [],
   "source": [
    "import pandas as pd\n",
    "import numpy as np"
   ]
  },
  {
   "cell_type": "code",
   "execution_count": 2,
   "metadata": {},
   "outputs": [],
   "source": [
    "dataset = pd.read_csv('data/fullDF.csv', index_col=0)\n",
    "dataset = dataset.drop(['GRID_TYPE'], axis=1)"
   ]
  },
  {
   "cell_type": "code",
   "execution_count": 3,
   "metadata": {},
   "outputs": [],
   "source": [
    "x_locations = dataset['LOC_X']\n",
    "y_locations = dataset['LOC_Y']"
   ]
  },
  {
   "cell_type": "code",
   "execution_count": 4,
   "metadata": {},
   "outputs": [
    {
     "data": {
      "text/plain": [
       "-278.0998"
      ]
     },
     "execution_count": 4,
     "metadata": {},
     "output_type": "execute_result"
    }
   ],
   "source": [
    "min(x_locations)"
   ]
  },
  {
   "cell_type": "code",
   "execution_count": 5,
   "metadata": {},
   "outputs": [
    {
     "data": {
      "text/plain": [
       "281.119"
      ]
     },
     "execution_count": 5,
     "metadata": {},
     "output_type": "execute_result"
    }
   ],
   "source": [
    "max(x_locations)"
   ]
  },
  {
   "cell_type": "code",
   "execution_count": 6,
   "metadata": {},
   "outputs": [
    {
     "data": {
      "text/plain": [
       "-100.6526"
      ]
     },
     "execution_count": 6,
     "metadata": {},
     "output_type": "execute_result"
    }
   ],
   "source": [
    "min(y_locations)"
   ]
  },
  {
   "cell_type": "code",
   "execution_count": 7,
   "metadata": {},
   "outputs": [
    {
     "data": {
      "text/plain": [
       "422.4871"
      ]
     },
     "execution_count": 7,
     "metadata": {},
     "output_type": "execute_result"
    }
   ],
   "source": [
    "max(y_locations)"
   ]
  },
  {
   "cell_type": "code",
   "execution_count": 8,
   "metadata": {},
   "outputs": [
    {
     "data": {
      "text/plain": [
       "2732     125.2763\n",
       "12130     -5.5908\n",
       "74191     78.5379\n",
       "19621    238.1948\n",
       "66474    139.8303\n",
       "           ...   \n",
       "70944    217.1834\n",
       "76301    206.2505\n",
       "48761    246.5670\n",
       "2308      50.1469\n",
       "77313     58.2601\n",
       "Name: LOC_Y, Length: 84467, dtype: float64"
      ]
     },
     "execution_count": 8,
     "metadata": {},
     "output_type": "execute_result"
    }
   ],
   "source": [
    "y_locations"
   ]
  },
  {
   "cell_type": "code",
   "execution_count": 9,
   "metadata": {},
   "outputs": [
    {
     "data": {
      "text/plain": [
       "84467"
      ]
     },
     "execution_count": 9,
     "metadata": {},
     "output_type": "execute_result"
    }
   ],
   "source": [
    "len(dataset)"
   ]
  },
  {
   "cell_type": "code",
   "execution_count": 10,
   "metadata": {},
   "outputs": [
    {
     "data": {
      "text/plain": [
       "Index(['ACTION_TYPE', 'EVENTTIME', 'HTM', 'LOC_X', 'LOC_Y',\n",
       "       'MINUTES_REMAINING', 'PERIOD', 'PLAYER_ID', 'PLAYER_NAME', 'QUARTER',\n",
       "       'SECONDS_REMAINING', 'SHOT_ATTEMPTED_FLAG', 'SHOT_DISTANCE',\n",
       "       'SHOT_MADE_FLAG', 'SHOT_TIME', 'SHOT_TYPE', 'SHOT_ZONE_AREA',\n",
       "       'SHOT_ZONE_BASIC', 'SHOT_ZONE_RANGE', 'TEAM_ID', 'TEAM_NAME', 'VTM',\n",
       "       'PLAYER_AVG'],\n",
       "      dtype='object')"
      ]
     },
     "execution_count": 10,
     "metadata": {},
     "output_type": "execute_result"
    }
   ],
   "source": [
    "dataset.columns"
   ]
  },
  {
   "cell_type": "code",
   "execution_count": 11,
   "metadata": {},
   "outputs": [
    {
     "data": {
      "text/html": [
       "<div>\n",
       "<style scoped>\n",
       "    .dataframe tbody tr th:only-of-type {\n",
       "        vertical-align: middle;\n",
       "    }\n",
       "\n",
       "    .dataframe tbody tr th {\n",
       "        vertical-align: top;\n",
       "    }\n",
       "\n",
       "    .dataframe thead th {\n",
       "        text-align: right;\n",
       "    }\n",
       "</style>\n",
       "<table border=\"1\" class=\"dataframe\">\n",
       "  <thead>\n",
       "    <tr style=\"text-align: right;\">\n",
       "      <th></th>\n",
       "      <th>ACTION_TYPE</th>\n",
       "      <th>EVENTTIME</th>\n",
       "      <th>HTM</th>\n",
       "      <th>LOC_X</th>\n",
       "      <th>LOC_Y</th>\n",
       "      <th>MINUTES_REMAINING</th>\n",
       "      <th>PERIOD</th>\n",
       "      <th>PLAYER_ID</th>\n",
       "      <th>PLAYER_NAME</th>\n",
       "      <th>QUARTER</th>\n",
       "      <th>...</th>\n",
       "      <th>SHOT_MADE_FLAG</th>\n",
       "      <th>SHOT_TIME</th>\n",
       "      <th>SHOT_TYPE</th>\n",
       "      <th>SHOT_ZONE_AREA</th>\n",
       "      <th>SHOT_ZONE_BASIC</th>\n",
       "      <th>SHOT_ZONE_RANGE</th>\n",
       "      <th>TEAM_ID</th>\n",
       "      <th>TEAM_NAME</th>\n",
       "      <th>VTM</th>\n",
       "      <th>PLAYER_AVG</th>\n",
       "    </tr>\n",
       "  </thead>\n",
       "  <tbody>\n",
       "    <tr>\n",
       "      <th>2732</th>\n",
       "      <td>Jump Shot</td>\n",
       "      <td>5</td>\n",
       "      <td>GSW</td>\n",
       "      <td>-215.9249</td>\n",
       "      <td>125.2763</td>\n",
       "      <td>0</td>\n",
       "      <td>2</td>\n",
       "      <td>201939</td>\n",
       "      <td>Stephen Curry</td>\n",
       "      <td>2.0</td>\n",
       "      <td>...</td>\n",
       "      <td>0</td>\n",
       "      <td>7.80</td>\n",
       "      <td>3PT Field Goal</td>\n",
       "      <td>Left Side Center(LC)</td>\n",
       "      <td>Above the Break 3</td>\n",
       "      <td>24+ ft.</td>\n",
       "      <td>1610612744</td>\n",
       "      <td>Golden State Warriors</td>\n",
       "      <td>MIL</td>\n",
       "      <td>0.510288</td>\n",
       "    </tr>\n",
       "    <tr>\n",
       "      <th>12130</th>\n",
       "      <td>Running Dunk Shot</td>\n",
       "      <td>80</td>\n",
       "      <td>HOU</td>\n",
       "      <td>222.7641</td>\n",
       "      <td>-5.5908</td>\n",
       "      <td>1</td>\n",
       "      <td>1</td>\n",
       "      <td>201147</td>\n",
       "      <td>Corey Brewer</td>\n",
       "      <td>1.0</td>\n",
       "      <td>...</td>\n",
       "      <td>1</td>\n",
       "      <td>65.37</td>\n",
       "      <td>2PT Field Goal</td>\n",
       "      <td>Center(C)</td>\n",
       "      <td>Restricted Area</td>\n",
       "      <td>Less Than 8 ft.</td>\n",
       "      <td>1610612745</td>\n",
       "      <td>Houston Rockets</td>\n",
       "      <td>IND</td>\n",
       "      <td>0.357466</td>\n",
       "    </tr>\n",
       "    <tr>\n",
       "      <th>74191</th>\n",
       "      <td>Hook Shot</td>\n",
       "      <td>470</td>\n",
       "      <td>OKC</td>\n",
       "      <td>209.4920</td>\n",
       "      <td>78.5379</td>\n",
       "      <td>7</td>\n",
       "      <td>4</td>\n",
       "      <td>201586</td>\n",
       "      <td>Serge Ibaka</td>\n",
       "      <td>4.0</td>\n",
       "      <td>...</td>\n",
       "      <td>1</td>\n",
       "      <td>486.12</td>\n",
       "      <td>2PT Field Goal</td>\n",
       "      <td>Center(C)</td>\n",
       "      <td>Restricted Area</td>\n",
       "      <td>Less Than 8 ft.</td>\n",
       "      <td>1610612760</td>\n",
       "      <td>Oklahoma City Thunder</td>\n",
       "      <td>MIN</td>\n",
       "      <td>0.508380</td>\n",
       "    </tr>\n",
       "    <tr>\n",
       "      <th>19621</th>\n",
       "      <td>Layup Shot</td>\n",
       "      <td>645</td>\n",
       "      <td>CHI</td>\n",
       "      <td>70.7910</td>\n",
       "      <td>238.1948</td>\n",
       "      <td>10</td>\n",
       "      <td>4</td>\n",
       "      <td>203087</td>\n",
       "      <td>Jeremy Lamb</td>\n",
       "      <td>4.0</td>\n",
       "      <td>...</td>\n",
       "      <td>0</td>\n",
       "      <td>614.75</td>\n",
       "      <td>2PT Field Goal</td>\n",
       "      <td>Center(C)</td>\n",
       "      <td>Restricted Area</td>\n",
       "      <td>Less Than 8 ft.</td>\n",
       "      <td>1610612766</td>\n",
       "      <td>Charlotte Hornets</td>\n",
       "      <td>CHA</td>\n",
       "      <td>0.452555</td>\n",
       "    </tr>\n",
       "    <tr>\n",
       "      <th>66474</th>\n",
       "      <td>Jump Shot</td>\n",
       "      <td>447</td>\n",
       "      <td>SAS</td>\n",
       "      <td>-44.9422</td>\n",
       "      <td>139.8303</td>\n",
       "      <td>7</td>\n",
       "      <td>4</td>\n",
       "      <td>203900</td>\n",
       "      <td>Markel Brown</td>\n",
       "      <td>4.0</td>\n",
       "      <td>...</td>\n",
       "      <td>0</td>\n",
       "      <td>434.04</td>\n",
       "      <td>3PT Field Goal</td>\n",
       "      <td>Right Side Center(RC)</td>\n",
       "      <td>Above the Break 3</td>\n",
       "      <td>24+ ft.</td>\n",
       "      <td>1610612751</td>\n",
       "      <td>Brooklyn Nets</td>\n",
       "      <td>BKN</td>\n",
       "      <td>0.244444</td>\n",
       "    </tr>\n",
       "  </tbody>\n",
       "</table>\n",
       "<p>5 rows × 23 columns</p>\n",
       "</div>"
      ],
      "text/plain": [
       "             ACTION_TYPE  EVENTTIME  HTM     LOC_X     LOC_Y  \\\n",
       "2732           Jump Shot          5  GSW -215.9249  125.2763   \n",
       "12130  Running Dunk Shot         80  HOU  222.7641   -5.5908   \n",
       "74191          Hook Shot        470  OKC  209.4920   78.5379   \n",
       "19621         Layup Shot        645  CHI   70.7910  238.1948   \n",
       "66474          Jump Shot        447  SAS  -44.9422  139.8303   \n",
       "\n",
       "       MINUTES_REMAINING  PERIOD  PLAYER_ID    PLAYER_NAME  QUARTER  ...  \\\n",
       "2732                   0       2     201939  Stephen Curry      2.0  ...   \n",
       "12130                  1       1     201147   Corey Brewer      1.0  ...   \n",
       "74191                  7       4     201586    Serge Ibaka      4.0  ...   \n",
       "19621                 10       4     203087    Jeremy Lamb      4.0  ...   \n",
       "66474                  7       4     203900   Markel Brown      4.0  ...   \n",
       "\n",
       "       SHOT_MADE_FLAG  SHOT_TIME       SHOT_TYPE         SHOT_ZONE_AREA  \\\n",
       "2732                0       7.80  3PT Field Goal   Left Side Center(LC)   \n",
       "12130               1      65.37  2PT Field Goal              Center(C)   \n",
       "74191               1     486.12  2PT Field Goal              Center(C)   \n",
       "19621               0     614.75  2PT Field Goal              Center(C)   \n",
       "66474               0     434.04  3PT Field Goal  Right Side Center(RC)   \n",
       "\n",
       "         SHOT_ZONE_BASIC  SHOT_ZONE_RANGE     TEAM_ID              TEAM_NAME  \\\n",
       "2732   Above the Break 3          24+ ft.  1610612744  Golden State Warriors   \n",
       "12130    Restricted Area  Less Than 8 ft.  1610612745        Houston Rockets   \n",
       "74191    Restricted Area  Less Than 8 ft.  1610612760  Oklahoma City Thunder   \n",
       "19621    Restricted Area  Less Than 8 ft.  1610612766      Charlotte Hornets   \n",
       "66474  Above the Break 3          24+ ft.  1610612751          Brooklyn Nets   \n",
       "\n",
       "       VTM  PLAYER_AVG  \n",
       "2732   MIL    0.510288  \n",
       "12130  IND    0.357466  \n",
       "74191  MIN    0.508380  \n",
       "19621  CHA    0.452555  \n",
       "66474  BKN    0.244444  \n",
       "\n",
       "[5 rows x 23 columns]"
      ]
     },
     "execution_count": 11,
     "metadata": {},
     "output_type": "execute_result"
    }
   ],
   "source": [
    "dataset.head()"
   ]
  },
  {
   "cell_type": "code",
   "execution_count": 12,
   "metadata": {},
   "outputs": [
    {
     "data": {
      "text/plain": [
       "23"
      ]
     },
     "execution_count": 12,
     "metadata": {},
     "output_type": "execute_result"
    }
   ],
   "source": [
    "len(dataset.columns)"
   ]
  },
  {
   "cell_type": "code",
   "execution_count": 13,
   "metadata": {},
   "outputs": [
    {
     "data": {
      "text/plain": [
       "53"
      ]
     },
     "execution_count": 13,
     "metadata": {},
     "output_type": "execute_result"
    }
   ],
   "source": [
    "len(set(dataset['ACTION_TYPE']))"
   ]
  },
  {
   "cell_type": "code",
   "execution_count": 14,
   "metadata": {},
   "outputs": [
    {
     "data": {
      "text/plain": [
       "{'2PT Field Goal', '3PT Field Goal'}"
      ]
     },
     "execution_count": 14,
     "metadata": {},
     "output_type": "execute_result"
    }
   ],
   "source": [
    "set(dataset['SHOT_TYPE'])"
   ]
  },
  {
   "cell_type": "code",
   "execution_count": 15,
   "metadata": {},
   "outputs": [
    {
     "data": {
      "text/plain": [
       "{1, 2, 3, 4, 5, 6}"
      ]
     },
     "execution_count": 15,
     "metadata": {},
     "output_type": "execute_result"
    }
   ],
   "source": [
    "set(dataset['PERIOD'])"
   ]
  },
  {
   "cell_type": "code",
   "execution_count": 16,
   "metadata": {},
   "outputs": [
    {
     "data": {
      "text/html": [
       "<div>\n",
       "<style scoped>\n",
       "    .dataframe tbody tr th:only-of-type {\n",
       "        vertical-align: middle;\n",
       "    }\n",
       "\n",
       "    .dataframe tbody tr th {\n",
       "        vertical-align: top;\n",
       "    }\n",
       "\n",
       "    .dataframe thead th {\n",
       "        text-align: right;\n",
       "    }\n",
       "</style>\n",
       "<table border=\"1\" class=\"dataframe\">\n",
       "  <thead>\n",
       "    <tr style=\"text-align: right;\">\n",
       "      <th></th>\n",
       "      <th>ACTION_TYPE</th>\n",
       "      <th>EVENTTIME</th>\n",
       "      <th>HTM</th>\n",
       "      <th>LOC_X</th>\n",
       "      <th>LOC_Y</th>\n",
       "      <th>MINUTES_REMAINING</th>\n",
       "      <th>PERIOD</th>\n",
       "      <th>PLAYER_ID</th>\n",
       "      <th>PLAYER_NAME</th>\n",
       "      <th>QUARTER</th>\n",
       "      <th>...</th>\n",
       "      <th>SHOT_MADE_FLAG</th>\n",
       "      <th>SHOT_TIME</th>\n",
       "      <th>SHOT_TYPE</th>\n",
       "      <th>SHOT_ZONE_AREA</th>\n",
       "      <th>SHOT_ZONE_BASIC</th>\n",
       "      <th>SHOT_ZONE_RANGE</th>\n",
       "      <th>TEAM_ID</th>\n",
       "      <th>TEAM_NAME</th>\n",
       "      <th>VTM</th>\n",
       "      <th>PLAYER_AVG</th>\n",
       "    </tr>\n",
       "  </thead>\n",
       "  <tbody>\n",
       "    <tr>\n",
       "      <th>57474</th>\n",
       "      <td>Layup Shot</td>\n",
       "      <td>707</td>\n",
       "      <td>DET</td>\n",
       "      <td>60.2333</td>\n",
       "      <td>237.4419</td>\n",
       "      <td>11</td>\n",
       "      <td>3</td>\n",
       "      <td>2544</td>\n",
       "      <td>LeBron James</td>\n",
       "      <td>3.0</td>\n",
       "      <td>...</td>\n",
       "      <td>0</td>\n",
       "      <td>703.26</td>\n",
       "      <td>2PT Field Goal</td>\n",
       "      <td>Center(C)</td>\n",
       "      <td>Restricted Area</td>\n",
       "      <td>Less Than 8 ft.</td>\n",
       "      <td>1610612739</td>\n",
       "      <td>Cleveland Cavaliers</td>\n",
       "      <td>CLE</td>\n",
       "      <td>0.490291</td>\n",
       "    </tr>\n",
       "    <tr>\n",
       "      <th>34656</th>\n",
       "      <td>Cutting Dunk Shot</td>\n",
       "      <td>424</td>\n",
       "      <td>CLE</td>\n",
       "      <td>-80.2639</td>\n",
       "      <td>76.1403</td>\n",
       "      <td>7</td>\n",
       "      <td>1</td>\n",
       "      <td>2544</td>\n",
       "      <td>LeBron James</td>\n",
       "      <td>1.0</td>\n",
       "      <td>...</td>\n",
       "      <td>1</td>\n",
       "      <td>427.90</td>\n",
       "      <td>2PT Field Goal</td>\n",
       "      <td>Center(C)</td>\n",
       "      <td>Restricted Area</td>\n",
       "      <td>Less Than 8 ft.</td>\n",
       "      <td>1610612739</td>\n",
       "      <td>Cleveland Cavaliers</td>\n",
       "      <td>UTA</td>\n",
       "      <td>0.490291</td>\n",
       "    </tr>\n",
       "    <tr>\n",
       "      <th>75043</th>\n",
       "      <td>Driving Layup Shot</td>\n",
       "      <td>187</td>\n",
       "      <td>CLE</td>\n",
       "      <td>53.6429</td>\n",
       "      <td>244.2146</td>\n",
       "      <td>3</td>\n",
       "      <td>1</td>\n",
       "      <td>2544</td>\n",
       "      <td>LeBron James</td>\n",
       "      <td>1.0</td>\n",
       "      <td>...</td>\n",
       "      <td>0</td>\n",
       "      <td>184.02</td>\n",
       "      <td>2PT Field Goal</td>\n",
       "      <td>Center(C)</td>\n",
       "      <td>Restricted Area</td>\n",
       "      <td>Less Than 8 ft.</td>\n",
       "      <td>1610612739</td>\n",
       "      <td>Cleveland Cavaliers</td>\n",
       "      <td>PHI</td>\n",
       "      <td>0.490291</td>\n",
       "    </tr>\n",
       "    <tr>\n",
       "      <th>39347</th>\n",
       "      <td>Driving Layup Shot</td>\n",
       "      <td>639</td>\n",
       "      <td>BKN</td>\n",
       "      <td>-137.8678</td>\n",
       "      <td>-5.7453</td>\n",
       "      <td>10</td>\n",
       "      <td>1</td>\n",
       "      <td>2544</td>\n",
       "      <td>LeBron James</td>\n",
       "      <td>1.0</td>\n",
       "      <td>...</td>\n",
       "      <td>0</td>\n",
       "      <td>603.90</td>\n",
       "      <td>2PT Field Goal</td>\n",
       "      <td>Center(C)</td>\n",
       "      <td>Restricted Area</td>\n",
       "      <td>Less Than 8 ft.</td>\n",
       "      <td>1610612739</td>\n",
       "      <td>Cleveland Cavaliers</td>\n",
       "      <td>CLE</td>\n",
       "      <td>0.490291</td>\n",
       "    </tr>\n",
       "    <tr>\n",
       "      <th>27659</th>\n",
       "      <td>Driving Dunk Shot</td>\n",
       "      <td>175</td>\n",
       "      <td>GSW</td>\n",
       "      <td>-0.0338</td>\n",
       "      <td>45.6127</td>\n",
       "      <td>2</td>\n",
       "      <td>4</td>\n",
       "      <td>2544</td>\n",
       "      <td>LeBron James</td>\n",
       "      <td>4.0</td>\n",
       "      <td>...</td>\n",
       "      <td>1</td>\n",
       "      <td>192.00</td>\n",
       "      <td>2PT Field Goal</td>\n",
       "      <td>Center(C)</td>\n",
       "      <td>Restricted Area</td>\n",
       "      <td>Less Than 8 ft.</td>\n",
       "      <td>1610612739</td>\n",
       "      <td>Cleveland Cavaliers</td>\n",
       "      <td>CLE</td>\n",
       "      <td>0.490291</td>\n",
       "    </tr>\n",
       "    <tr>\n",
       "      <th>...</th>\n",
       "      <td>...</td>\n",
       "      <td>...</td>\n",
       "      <td>...</td>\n",
       "      <td>...</td>\n",
       "      <td>...</td>\n",
       "      <td>...</td>\n",
       "      <td>...</td>\n",
       "      <td>...</td>\n",
       "      <td>...</td>\n",
       "      <td>...</td>\n",
       "      <td>...</td>\n",
       "      <td>...</td>\n",
       "      <td>...</td>\n",
       "      <td>...</td>\n",
       "      <td>...</td>\n",
       "      <td>...</td>\n",
       "      <td>...</td>\n",
       "      <td>...</td>\n",
       "      <td>...</td>\n",
       "      <td>...</td>\n",
       "      <td>...</td>\n",
       "    </tr>\n",
       "    <tr>\n",
       "      <th>10742</th>\n",
       "      <td>Layup Shot</td>\n",
       "      <td>658</td>\n",
       "      <td>NYK</td>\n",
       "      <td>-11.3719</td>\n",
       "      <td>255.6134</td>\n",
       "      <td>10</td>\n",
       "      <td>2</td>\n",
       "      <td>2544</td>\n",
       "      <td>LeBron James</td>\n",
       "      <td>2.0</td>\n",
       "      <td>...</td>\n",
       "      <td>0</td>\n",
       "      <td>666.06</td>\n",
       "      <td>2PT Field Goal</td>\n",
       "      <td>Center(C)</td>\n",
       "      <td>Restricted Area</td>\n",
       "      <td>Less Than 8 ft.</td>\n",
       "      <td>1610612739</td>\n",
       "      <td>Cleveland Cavaliers</td>\n",
       "      <td>CLE</td>\n",
       "      <td>0.490291</td>\n",
       "    </tr>\n",
       "    <tr>\n",
       "      <th>1257</th>\n",
       "      <td>Running Layup Shot</td>\n",
       "      <td>193</td>\n",
       "      <td>CLE</td>\n",
       "      <td>-65.4647</td>\n",
       "      <td>57.2498</td>\n",
       "      <td>3</td>\n",
       "      <td>4</td>\n",
       "      <td>2544</td>\n",
       "      <td>LeBron James</td>\n",
       "      <td>4.0</td>\n",
       "      <td>...</td>\n",
       "      <td>1</td>\n",
       "      <td>175.77</td>\n",
       "      <td>2PT Field Goal</td>\n",
       "      <td>Center(C)</td>\n",
       "      <td>Restricted Area</td>\n",
       "      <td>Less Than 8 ft.</td>\n",
       "      <td>1610612739</td>\n",
       "      <td>Cleveland Cavaliers</td>\n",
       "      <td>NYK</td>\n",
       "      <td>0.490291</td>\n",
       "    </tr>\n",
       "    <tr>\n",
       "      <th>29310</th>\n",
       "      <td>Driving Layup Shot</td>\n",
       "      <td>158</td>\n",
       "      <td>DAL</td>\n",
       "      <td>-21.6574</td>\n",
       "      <td>0.4609</td>\n",
       "      <td>2</td>\n",
       "      <td>3</td>\n",
       "      <td>2544</td>\n",
       "      <td>LeBron James</td>\n",
       "      <td>3.0</td>\n",
       "      <td>...</td>\n",
       "      <td>1</td>\n",
       "      <td>160.91</td>\n",
       "      <td>2PT Field Goal</td>\n",
       "      <td>Center(C)</td>\n",
       "      <td>Restricted Area</td>\n",
       "      <td>Less Than 8 ft.</td>\n",
       "      <td>1610612739</td>\n",
       "      <td>Cleveland Cavaliers</td>\n",
       "      <td>CLE</td>\n",
       "      <td>0.490291</td>\n",
       "    </tr>\n",
       "    <tr>\n",
       "      <th>57475</th>\n",
       "      <td>Fadeaway Jump Shot</td>\n",
       "      <td>446</td>\n",
       "      <td>DET</td>\n",
       "      <td>-194.6814</td>\n",
       "      <td>27.8240</td>\n",
       "      <td>7</td>\n",
       "      <td>3</td>\n",
       "      <td>2544</td>\n",
       "      <td>LeBron James</td>\n",
       "      <td>3.0</td>\n",
       "      <td>...</td>\n",
       "      <td>0</td>\n",
       "      <td>449.97</td>\n",
       "      <td>2PT Field Goal</td>\n",
       "      <td>Left Side(L)</td>\n",
       "      <td>Mid-Range</td>\n",
       "      <td>8-16 ft.</td>\n",
       "      <td>1610612739</td>\n",
       "      <td>Cleveland Cavaliers</td>\n",
       "      <td>CLE</td>\n",
       "      <td>0.490291</td>\n",
       "    </tr>\n",
       "    <tr>\n",
       "      <th>10743</th>\n",
       "      <td>Driving Layup Shot</td>\n",
       "      <td>284</td>\n",
       "      <td>NYK</td>\n",
       "      <td>-161.2804</td>\n",
       "      <td>137.5846</td>\n",
       "      <td>4</td>\n",
       "      <td>2</td>\n",
       "      <td>2544</td>\n",
       "      <td>LeBron James</td>\n",
       "      <td>2.0</td>\n",
       "      <td>...</td>\n",
       "      <td>1</td>\n",
       "      <td>303.01</td>\n",
       "      <td>2PT Field Goal</td>\n",
       "      <td>Center(C)</td>\n",
       "      <td>Restricted Area</td>\n",
       "      <td>Less Than 8 ft.</td>\n",
       "      <td>1610612739</td>\n",
       "      <td>Cleveland Cavaliers</td>\n",
       "      <td>CLE</td>\n",
       "      <td>0.490291</td>\n",
       "    </tr>\n",
       "  </tbody>\n",
       "</table>\n",
       "<p>618 rows × 23 columns</p>\n",
       "</div>"
      ],
      "text/plain": [
       "              ACTION_TYPE  EVENTTIME  HTM     LOC_X     LOC_Y  \\\n",
       "57474          Layup Shot        707  DET   60.2333  237.4419   \n",
       "34656   Cutting Dunk Shot        424  CLE  -80.2639   76.1403   \n",
       "75043  Driving Layup Shot        187  CLE   53.6429  244.2146   \n",
       "39347  Driving Layup Shot        639  BKN -137.8678   -5.7453   \n",
       "27659   Driving Dunk Shot        175  GSW   -0.0338   45.6127   \n",
       "...                   ...        ...  ...       ...       ...   \n",
       "10742          Layup Shot        658  NYK  -11.3719  255.6134   \n",
       "1257   Running Layup Shot        193  CLE  -65.4647   57.2498   \n",
       "29310  Driving Layup Shot        158  DAL  -21.6574    0.4609   \n",
       "57475  Fadeaway Jump Shot        446  DET -194.6814   27.8240   \n",
       "10743  Driving Layup Shot        284  NYK -161.2804  137.5846   \n",
       "\n",
       "       MINUTES_REMAINING  PERIOD  PLAYER_ID   PLAYER_NAME  QUARTER  ...  \\\n",
       "57474                 11       3       2544  LeBron James      3.0  ...   \n",
       "34656                  7       1       2544  LeBron James      1.0  ...   \n",
       "75043                  3       1       2544  LeBron James      1.0  ...   \n",
       "39347                 10       1       2544  LeBron James      1.0  ...   \n",
       "27659                  2       4       2544  LeBron James      4.0  ...   \n",
       "...                  ...     ...        ...           ...      ...  ...   \n",
       "10742                 10       2       2544  LeBron James      2.0  ...   \n",
       "1257                   3       4       2544  LeBron James      4.0  ...   \n",
       "29310                  2       3       2544  LeBron James      3.0  ...   \n",
       "57475                  7       3       2544  LeBron James      3.0  ...   \n",
       "10743                  4       2       2544  LeBron James      2.0  ...   \n",
       "\n",
       "       SHOT_MADE_FLAG  SHOT_TIME       SHOT_TYPE  SHOT_ZONE_AREA  \\\n",
       "57474               0     703.26  2PT Field Goal       Center(C)   \n",
       "34656               1     427.90  2PT Field Goal       Center(C)   \n",
       "75043               0     184.02  2PT Field Goal       Center(C)   \n",
       "39347               0     603.90  2PT Field Goal       Center(C)   \n",
       "27659               1     192.00  2PT Field Goal       Center(C)   \n",
       "...               ...        ...             ...             ...   \n",
       "10742               0     666.06  2PT Field Goal       Center(C)   \n",
       "1257                1     175.77  2PT Field Goal       Center(C)   \n",
       "29310               1     160.91  2PT Field Goal       Center(C)   \n",
       "57475               0     449.97  2PT Field Goal    Left Side(L)   \n",
       "10743               1     303.01  2PT Field Goal       Center(C)   \n",
       "\n",
       "       SHOT_ZONE_BASIC  SHOT_ZONE_RANGE     TEAM_ID            TEAM_NAME  VTM  \\\n",
       "57474  Restricted Area  Less Than 8 ft.  1610612739  Cleveland Cavaliers  CLE   \n",
       "34656  Restricted Area  Less Than 8 ft.  1610612739  Cleveland Cavaliers  UTA   \n",
       "75043  Restricted Area  Less Than 8 ft.  1610612739  Cleveland Cavaliers  PHI   \n",
       "39347  Restricted Area  Less Than 8 ft.  1610612739  Cleveland Cavaliers  CLE   \n",
       "27659  Restricted Area  Less Than 8 ft.  1610612739  Cleveland Cavaliers  CLE   \n",
       "...                ...              ...         ...                  ...  ...   \n",
       "10742  Restricted Area  Less Than 8 ft.  1610612739  Cleveland Cavaliers  CLE   \n",
       "1257   Restricted Area  Less Than 8 ft.  1610612739  Cleveland Cavaliers  NYK   \n",
       "29310  Restricted Area  Less Than 8 ft.  1610612739  Cleveland Cavaliers  CLE   \n",
       "57475        Mid-Range         8-16 ft.  1610612739  Cleveland Cavaliers  CLE   \n",
       "10743  Restricted Area  Less Than 8 ft.  1610612739  Cleveland Cavaliers  CLE   \n",
       "\n",
       "       PLAYER_AVG  \n",
       "57474    0.490291  \n",
       "34656    0.490291  \n",
       "75043    0.490291  \n",
       "39347    0.490291  \n",
       "27659    0.490291  \n",
       "...           ...  \n",
       "10742    0.490291  \n",
       "1257     0.490291  \n",
       "29310    0.490291  \n",
       "57475    0.490291  \n",
       "10743    0.490291  \n",
       "\n",
       "[618 rows x 23 columns]"
      ]
     },
     "execution_count": 16,
     "metadata": {},
     "output_type": "execute_result"
    }
   ],
   "source": [
    "dataset[dataset['PLAYER_NAME'] == 'LeBron James']"
   ]
  },
  {
   "cell_type": "code",
   "execution_count": 17,
   "metadata": {},
   "outputs": [],
   "source": [
    "import matplotlib.pyplot as plt"
   ]
  },
  {
   "cell_type": "code",
   "execution_count": 18,
   "metadata": {},
   "outputs": [],
   "source": [
    "by_shot_distance = dataset.groupby('SHOT_DISTANCE')['SHOT_MADE_FLAG'].mean()\n",
    "num_attempts_by_shot_distance = dataset.groupby('SHOT_DISTANCE')['SHOT_MADE_FLAG'].count()"
   ]
  },
  {
   "cell_type": "code",
   "execution_count": 19,
   "metadata": {},
   "outputs": [],
   "source": [
    "x_values = by_shot_distance.index\n",
    "y_values_percentages = by_shot_distance.values * 100\n",
    "y_values_counts = num_attempts_by_shot_distance.values"
   ]
  },
  {
   "cell_type": "code",
   "execution_count": 20,
   "metadata": {},
   "outputs": [
    {
     "data": {
      "image/png": "[encoded data removed]",
      "text/plain": [
       "<Figure size 640x480 with 1 Axes>"
      ]
     },
     "metadata": {},
     "output_type": "display_data"
    }
   ],
   "source": [
    "plt.plot(x_values, y_values_percentages)\n",
    "plt.xlabel('Shot Distance (feet)')\n",
    "plt.ylabel('% of Shots that were Makes')\n",
    "plt.title('Percentage of Shots that go in as distance from the hoop increases')\n",
    "plt.show()"
   ]
  },
  {
   "cell_type": "code",
   "execution_count": 21,
   "metadata": {},
   "outputs": [
    {
     "data": {
      "image/png": "[encoded data removed]",
      "text/plain": [
       "<Figure size 640x480 with 1 Axes>"
      ]
     },
     "metadata": {},
     "output_type": "display_data"
    }
   ],
   "source": [
    "plt.plot(x_values, y_values_counts)\n",
    "plt.xlabel('Shot Distance (feet)')\n",
    "plt.ylabel('Number of Shots')\n",
    "plt.title('Number of Shots Attempted by Distance from Hoop')\n",
    "plt.show()"
   ]
  },
  {
   "cell_type": "code",
   "execution_count": 22,
   "metadata": {},
   "outputs": [
    {
     "data": {
      "text/plain": [
       "array([76.54494382, 57.72681954, 48.61235452, 37.21940623, 36.28808864,\n",
       "       39.54168698, 39.64497041, 41.95639364, 41.80537772, 38.22652757,\n",
       "       37.14285714, 38.56573705, 41.3940256 , 40.99859353, 41.84261036,\n",
       "       38.3843717 , 43.68108567, 39.26742812, 41.4468995 , 39.70416504,\n",
       "       39.11227154, 40.71490846, 38.78306878, 36.80355742, 36.09517999,\n",
       "       34.97652582, 34.10762679, 29.65686275, 30.24911032, 30.47619048,\n",
       "       19.04761905, 19.23076923, 25.        , 20.        ,  0.        ,\n",
       "        9.09090909,  0.        ,  0.        ,  0.        ,  8.33333333,\n",
       "       17.64705882,  0.        ,  0.        , 11.11111111, 25.        ,\n",
       "        0.        , 12.5       , 11.11111111,  9.09090909, 10.        ,\n",
       "        0.        ,  0.        ,  0.        ,  0.        ,  0.        ,\n",
       "        0.        ,  0.        ,  0.        ,  0.        ,  0.        ,\n",
       "        0.        ,  0.        ,  0.        ,  0.        ,  0.        ,\n",
       "        0.        ,  0.        ,  0.        ,  0.        ,  0.        ,\n",
       "        0.        ,  0.        ,  0.        ,  0.        ,  0.        ])"
      ]
     },
     "execution_count": 22,
     "metadata": {},
     "output_type": "execute_result"
    }
   ],
   "source": [
    "y_values_percentages"
   ]
  },
  {
   "cell_type": "code",
   "execution_count": 23,
   "metadata": {},
   "outputs": [
    {
     "data": {
      "text/plain": [
       "array([8544, 9027, 6702, 2762, 2166, 2051, 2028, 1697, 1562, 1342, 1330,\n",
       "       1255, 1406, 1422, 1563, 1894, 2358, 2539, 2806, 2569, 1915, 1147,\n",
       "       1890, 3823, 8195, 6390, 2583,  816,  281,  105,   42,   26,    8,\n",
       "         10,    7,   11,    7,    8,    7,   12,   17,    7,    9,    9,\n",
       "          4,    6,    8,    9,   11,   10,    3,    7,    6,    6,    7,\n",
       "          5,    2,    6,    3,    2,    1,    3,    3,    1,    2,    2,\n",
       "          2,    1,    2,    1,    2,    1,    1,    1,    1])"
      ]
     },
     "execution_count": 23,
     "metadata": {},
     "output_type": "execute_result"
    }
   ],
   "source": [
    "y_values_counts"
   ]
  },
  {
   "cell_type": "code",
   "execution_count": 24,
   "metadata": {},
   "outputs": [
    {
     "data": {
      "text/plain": [
       "np.float64(0.3628808864265928)"
      ]
     },
     "execution_count": 24,
     "metadata": {},
     "output_type": "execute_result"
    }
   ],
   "source": [
    "by_shot_distance[4]"
   ]
  },
  {
   "cell_type": "code",
   "execution_count": 25,
   "metadata": {},
   "outputs": [
    {
     "data": {
      "text/plain": [
       "np.float64(0.3609517998779744)"
      ]
     },
     "execution_count": 25,
     "metadata": {},
     "output_type": "execute_result"
    }
   ],
   "source": [
    "by_shot_distance[24]"
   ]
  },
  {
   "cell_type": "code",
   "execution_count": 26,
   "metadata": {},
   "outputs": [
    {
     "data": {
      "text/plain": [
       "np.int64(8195)"
      ]
     },
     "execution_count": 26,
     "metadata": {},
     "output_type": "execute_result"
    }
   ],
   "source": [
    "num_attempts_by_shot_distance[24]"
   ]
  },
  {
   "cell_type": "code",
   "execution_count": 27,
   "metadata": {},
   "outputs": [
    {
     "name": "stdout",
     "output_type": "stream",
     "text": [
      "Out of 84467 total shots, 44.83% were makes and 55.17% were misses.\n"
     ]
    }
   ],
   "source": [
    "makes = dataset[dataset['SHOT_MADE_FLAG'] == 1]\n",
    "misses = dataset[dataset['SHOT_MADE_FLAG'] == 0]\n",
    "print(f\"Out of {len(dataset)} total shots, {round(len(makes) / len(dataset) * 100, 2)}% were makes and {round(len(misses) / len(dataset) * 100, 2)}% were misses.\")"
   ]
  }
 ],
 "metadata": {
  "kernelspec": {
   "display_name": "Python 3",
   "language": "python",
   "name": "python3"
  },
  "language_info": {
   "codemirror_mode": {
    "name": "ipython",
    "version": 3
   },
   "file_extension": ".py",
   "mimetype": "text/x-python",
   "name": "python",
   "nbconvert_exporter": "python",
   "pygments_lexer": "ipython3",
   "version": "3.13.2"
  }
 },
 "nbformat": 4,
 "nbformat_minor": 4
}
